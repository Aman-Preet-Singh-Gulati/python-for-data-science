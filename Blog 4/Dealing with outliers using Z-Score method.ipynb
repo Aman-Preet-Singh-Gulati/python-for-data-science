{
 "cells": [
  {
   "cell_type": "markdown",
   "metadata": {},
   "source": [
    "## Introduction\n",
    "\n",
    "Outlier detection is one of the widely used method in any data science project as it's presence can lead to a **development of bad machine learning model**. Let's take a quick scenario of linear regression problem statement, where suppose you have to predict the weight of the person from the height. In general one with more height will have the more weight as well **(linear positive trend)** but what if rarely we have **3-4 person** who have very less weight but comparatively more height then that data will be treated as the **bad data or the outliers.** Which in the end would not be a good fit for our regression model.\n",
    "\n",
    "There are various ways through which we can deal with the outliers though in this article we will have our complete focus on **Z-Score** method. Here we will talk about the **limitations of this method**, **When to use and when to prefer other methods**, and offcourse the **complete implementation using Python**.\n"
   ]
  },
  {
   "cell_type": "markdown",
   "metadata": {},
   "source": [
    "## Limitations of Z-Score\n",
    "\n",
    "Though Z-Score is highly efficient way of detecting and removing the outliers, yet we cannot use it with every type of data. When we said that we mean that it only work with the data which is completely or close to **normally distributed** which in turn stimulates that this method is not for **skewed** data either **left skew** or **right skew**, for the other data we have something known as **Inter quartile range (IQR)** method this we will cover in the very next article that too in depth.\n",
    "\n",
    "Enough of the theory let's now jump to practically implement this method and see how we can **detect and remove the bad data** from the dataset to improve the model accuracy as the end result."
   ]
  },
  {
   "cell_type": "code",
   "execution_count": 1,
   "metadata": {},
   "outputs": [],
   "source": [
    "import numpy as np\n",
    "import pandas as pd\n",
    "import matplotlib.pyplot as plt\n",
    "import seaborn as sns"
   ]
  },
  {
   "cell_type": "markdown",
   "metadata": {},
   "source": [
    "We are getting our stuffs ready by firstly importing all the essential libraries from Python's supported package. Here we have imported four main libraries that we will use during the execution part:\n",
    "\n",
    "1. **Numpy:** For performing mathematical calculations by simplying the same from it's predefined functions\n",
    "2. **Pandas**: Pandas is the data manipulation library which helps in playing with DataFrames.\n",
    "3. **Matplotlib:** This is one of the most common library used for visualization that is closest to python backend.\n",
    "4. **Seaborn:** Another visualization library that is better in terms of representation, look and feel but built on top of matplotlib."
   ]
  },
  {
   "cell_type": "code",
   "execution_count": 2,
   "metadata": {},
   "outputs": [
    {
     "data": {
      "text/html": [
       "<div>\n",
       "<style scoped>\n",
       "    .dataframe tbody tr th:only-of-type {\n",
       "        vertical-align: middle;\n",
       "    }\n",
       "\n",
       "    .dataframe tbody tr th {\n",
       "        vertical-align: top;\n",
       "    }\n",
       "\n",
       "    .dataframe thead th {\n",
       "        text-align: right;\n",
       "    }\n",
       "</style>\n",
       "<table border=\"1\" class=\"dataframe\">\n",
       "  <thead>\n",
       "    <tr style=\"text-align: right;\">\n",
       "      <th></th>\n",
       "      <th>cgpa</th>\n",
       "      <th>placement_exam_marks</th>\n",
       "      <th>placed</th>\n",
       "    </tr>\n",
       "  </thead>\n",
       "  <tbody>\n",
       "    <tr>\n",
       "      <th>0</th>\n",
       "      <td>7.19</td>\n",
       "      <td>26.0</td>\n",
       "      <td>1</td>\n",
       "    </tr>\n",
       "    <tr>\n",
       "      <th>1</th>\n",
       "      <td>7.46</td>\n",
       "      <td>38.0</td>\n",
       "      <td>1</td>\n",
       "    </tr>\n",
       "    <tr>\n",
       "      <th>2</th>\n",
       "      <td>7.54</td>\n",
       "      <td>40.0</td>\n",
       "      <td>1</td>\n",
       "    </tr>\n",
       "    <tr>\n",
       "      <th>3</th>\n",
       "      <td>6.42</td>\n",
       "      <td>8.0</td>\n",
       "      <td>1</td>\n",
       "    </tr>\n",
       "    <tr>\n",
       "      <th>4</th>\n",
       "      <td>7.23</td>\n",
       "      <td>17.0</td>\n",
       "      <td>0</td>\n",
       "    </tr>\n",
       "  </tbody>\n",
       "</table>\n",
       "</div>"
      ],
      "text/plain": [
       "   cgpa  placement_exam_marks  placed\n",
       "0  7.19                  26.0       1\n",
       "1  7.46                  38.0       1\n",
       "2  7.54                  40.0       1\n",
       "3  6.42                   8.0       1\n",
       "4  7.23                  17.0       0"
      ]
     },
     "execution_count": 2,
     "metadata": {},
     "output_type": "execute_result"
    }
   ],
   "source": [
    "df_org = pd.read_csv('placement.csv')\n",
    "df_org.head()"
   ]
  },
  {
   "cell_type": "markdown",
   "metadata": {},
   "source": [
    "**Inference:** We are using the simple placement dataset for this article where we will take **cgpa** and **placement exam marks** as two columns and select one of the column which will show the **normal distribution** then will proceed further to remove outliers from that feature. Using the **head** function to show the top 5 rows."
   ]
  },
  {
   "cell_type": "code",
   "execution_count": 3,
   "metadata": {},
   "outputs": [
    {
     "data": {
      "text/plain": [
       "(1000, 3)"
      ]
     },
     "execution_count": 3,
     "metadata": {},
     "output_type": "execute_result"
    }
   ],
   "source": [
    "df_org.shape"
   ]
  },
  {
   "cell_type": "markdown",
   "metadata": {},
   "source": [
    "**Inference:** As **shape** function stimulates that we have **1000 rows** of data with **3 columns** -> (1000,3)"
   ]
  },
  {
   "cell_type": "code",
   "execution_count": 4,
   "metadata": {},
   "outputs": [
    {
     "data": {
      "text/html": [
       "<div>\n",
       "<style scoped>\n",
       "    .dataframe tbody tr th:only-of-type {\n",
       "        vertical-align: middle;\n",
       "    }\n",
       "\n",
       "    .dataframe tbody tr th {\n",
       "        vertical-align: top;\n",
       "    }\n",
       "\n",
       "    .dataframe thead th {\n",
       "        text-align: right;\n",
       "    }\n",
       "</style>\n",
       "<table border=\"1\" class=\"dataframe\">\n",
       "  <thead>\n",
       "    <tr style=\"text-align: right;\">\n",
       "      <th></th>\n",
       "      <th>cgpa</th>\n",
       "      <th>placement_exam_marks</th>\n",
       "      <th>placed</th>\n",
       "    </tr>\n",
       "  </thead>\n",
       "  <tbody>\n",
       "    <tr>\n",
       "      <th>946</th>\n",
       "      <td>7.95</td>\n",
       "      <td>12.0</td>\n",
       "      <td>0</td>\n",
       "    </tr>\n",
       "    <tr>\n",
       "      <th>446</th>\n",
       "      <td>6.60</td>\n",
       "      <td>23.0</td>\n",
       "      <td>1</td>\n",
       "    </tr>\n",
       "    <tr>\n",
       "      <th>924</th>\n",
       "      <td>6.85</td>\n",
       "      <td>23.0</td>\n",
       "      <td>1</td>\n",
       "    </tr>\n",
       "    <tr>\n",
       "      <th>885</th>\n",
       "      <td>7.13</td>\n",
       "      <td>16.0</td>\n",
       "      <td>1</td>\n",
       "    </tr>\n",
       "    <tr>\n",
       "      <th>474</th>\n",
       "      <td>7.11</td>\n",
       "      <td>25.0</td>\n",
       "      <td>1</td>\n",
       "    </tr>\n",
       "  </tbody>\n",
       "</table>\n",
       "</div>"
      ],
      "text/plain": [
       "     cgpa  placement_exam_marks  placed\n",
       "946  7.95                  12.0       0\n",
       "446  6.60                  23.0       1\n",
       "924  6.85                  23.0       1\n",
       "885  7.13                  16.0       1\n",
       "474  7.11                  25.0       1"
      ]
     },
     "execution_count": 4,
     "metadata": {},
     "output_type": "execute_result"
    }
   ],
   "source": [
    "df_org.sample(5)"
   ]
  },
  {
   "cell_type": "markdown",
   "metadata": {},
   "source": [
    "**Inference:** Like **head function** returns the top **5 rows** (by default) Similarly, **sample function** returns the random **sample of 'n' rows** depending on what value we are giving in the parameter. "
   ]
  },
  {
   "cell_type": "code",
   "execution_count": 5,
   "metadata": {},
   "outputs": [
    {
     "data": {
      "image/png": "[encoded data removed]",
      "text/plain": [
       "<Figure size 1152x360 with 2 Axes>"
      ]
     },
     "metadata": {
      "needs_background": "light"
     },
     "output_type": "display_data"
    }
   ],
   "source": [
    "plt.figure(figsize=(16,5))\n",
    "plt.subplot(1,2,1)\n",
    "sns.histplot(df_org['cgpa'], kde=True)\n",
    "\n",
    "plt.subplot(1,2,2)\n",
    "sns.histplot(df_org['placement_exam_marks'], kde=True)\n",
    "\n",
    "plt.show()"
   ]
  },
  {
   "cell_type": "markdown",
   "metadata": {},
   "source": [
    "**Inference:** We chose **histplot** with **kernel density as True** graph for both **cgpa** and **placement_exam_marks** column so that we can get clear understanding that among both of them which one have the **normal distribution**.\n",
    "\n",
    "From the graph we can clearly see that **cgpa** is almost right fit for the normal distribution or we can say it is forming the correct **bell curve**. Meanwhile the other one is slighlty **skewed** towards right. Hence, we are gonna take cgpa for our further analysis."
   ]
  },
  {
   "cell_type": "code",
   "execution_count": 6,
   "metadata": {},
   "outputs": [
    {
     "data": {
      "text/plain": [
       "0.8356419499466834"
      ]
     },
     "execution_count": 6,
     "metadata": {},
     "output_type": "execute_result"
    }
   ],
   "source": [
    "df_org['placement_exam_marks'].skew()"
   ]
  },
  {
   "cell_type": "code",
   "execution_count": 7,
   "metadata": {},
   "outputs": [
    {
     "data": {
      "text/plain": [
       "-0.014529938929314918"
      ]
     },
     "execution_count": 7,
     "metadata": {},
     "output_type": "execute_result"
    }
   ],
   "source": [
    "df_org['cgpa'].skew()"
   ]
  },
  {
   "cell_type": "markdown",
   "metadata": {},
   "source": [
    "**Inference:** We were lucky enough to spot the difference between normal distribution and skewed distriution from above graph but sometimes the graph might not give this clear understanding, for that we have the **skew function** from pandas which will give the **higher positive value** if the distribution seems to be **skewed** (**placement_exam_marks**) other wise it will return the quite **lower value even in negative** if it is not skewed at all (**cgpa**)."
   ]
  },
  {
   "cell_type": "code",
   "execution_count": 8,
   "metadata": {},
   "outputs": [
    {
     "name": "stdout",
     "output_type": "stream",
     "text": [
      "Mean value of cgpa 6.96124000000001\n",
      "Standard deviation of cgpa 0.6158978751323894\n",
      "Minimum value of cgpa 4.89\n",
      "Maximum value of cgpa 9.12\n"
     ]
    }
   ],
   "source": [
    "print(\"Mean value of cgpa\",df_org['cgpa'].mean())\n",
    "print(\"Standard deviation of cgpa\",df_org['cgpa'].std())\n",
    "print(\"Minimum value of cgpa\",df_org['cgpa'].min())\n",
    "print(\"Maximum value of cgpa\",df_org['cgpa'].max())"
   ]
  },
  {
   "cell_type": "markdown",
   "metadata": {},
   "source": [
    "**Inference:** Here are some seperate statistical measures for **cgpa** which are printed out with an intention to compare the original values (from original data) to when the data will be **free of any outlier** with that the analysis will be evident and clear as well."
   ]
  },
  {
   "cell_type": "markdown",
   "metadata": {},
   "source": [
    "## Approach \n",
    "\n",
    "From here onwards our main task starts but before implemnting the same let's first dicuss the game plan and how we will approach to **deal with bad data using Z-Score:**\n",
    "\n",
    "1. The very first step will be setting the **upper** and **lower** limit. This is the range which stimulates that **out of this range** every data point will be regarded as **outlier**. Let's see the formulae for both upper and lower limit.\n",
    "    * **Upper:** Mean + 3 * standard deviation.\n",
    "    * **Lower:** MEan - 3 * standard deviation."
   ]
  },
  {
   "cell_type": "code",
   "execution_count": 9,
   "metadata": {
    "scrolled": true
   },
   "outputs": [
    {
     "name": "stdout",
     "output_type": "stream",
     "text": [
      "Upper limit 8.808933625397177\n",
      "Lower limit 5.113546374602842\n"
     ]
    }
   ],
   "source": [
    "print(\"Upper limit\",df_org['cgpa'].mean() + 3*df_org['cgpa'].std())\n",
    "print(\"Lower limit\",df_org['cgpa'].mean() - 3*df_org['cgpa'].std())"
   ]
  },
  {
   "cell_type": "markdown",
   "metadata": {},
   "source": [
    "**Inference:** In the output we can see that highest value is **8.80** while the lowest value is **5.11**. Hence any value out of this range is the **bad data point**"
   ]
  },
  {
   "cell_type": "markdown",
   "metadata": {},
   "source": [
    "2. Second step is to detect **how many outliers are there in the dataset** based on the upper and lower limit that we set up just before."
   ]
  },
  {
   "cell_type": "code",
   "execution_count": 10,
   "metadata": {
    "scrolled": true
   },
   "outputs": [
    {
     "data": {
      "text/html": [
       "<div>\n",
       "<style scoped>\n",
       "    .dataframe tbody tr th:only-of-type {\n",
       "        vertical-align: middle;\n",
       "    }\n",
       "\n",
       "    .dataframe tbody tr th {\n",
       "        vertical-align: top;\n",
       "    }\n",
       "\n",
       "    .dataframe thead th {\n",
       "        text-align: right;\n",
       "    }\n",
       "</style>\n",
       "<table border=\"1\" class=\"dataframe\">\n",
       "  <thead>\n",
       "    <tr style=\"text-align: right;\">\n",
       "      <th></th>\n",
       "      <th>cgpa</th>\n",
       "      <th>placement_exam_marks</th>\n",
       "      <th>placed</th>\n",
       "    </tr>\n",
       "  </thead>\n",
       "  <tbody>\n",
       "    <tr>\n",
       "      <th>485</th>\n",
       "      <td>4.92</td>\n",
       "      <td>44.0</td>\n",
       "      <td>1</td>\n",
       "    </tr>\n",
       "    <tr>\n",
       "      <th>995</th>\n",
       "      <td>8.87</td>\n",
       "      <td>44.0</td>\n",
       "      <td>1</td>\n",
       "    </tr>\n",
       "    <tr>\n",
       "      <th>996</th>\n",
       "      <td>9.12</td>\n",
       "      <td>65.0</td>\n",
       "      <td>1</td>\n",
       "    </tr>\n",
       "    <tr>\n",
       "      <th>997</th>\n",
       "      <td>4.89</td>\n",
       "      <td>34.0</td>\n",
       "      <td>0</td>\n",
       "    </tr>\n",
       "    <tr>\n",
       "      <th>999</th>\n",
       "      <td>4.90</td>\n",
       "      <td>10.0</td>\n",
       "      <td>1</td>\n",
       "    </tr>\n",
       "  </tbody>\n",
       "</table>\n",
       "</div>"
      ],
      "text/plain": [
       "     cgpa  placement_exam_marks  placed\n",
       "485  4.92                  44.0       1\n",
       "995  8.87                  44.0       1\n",
       "996  9.12                  65.0       1\n",
       "997  4.89                  34.0       0\n",
       "999  4.90                  10.0       1"
      ]
     },
     "execution_count": 10,
     "metadata": {},
     "output_type": "execute_result"
    }
   ],
   "source": [
    "df_org[(df_org['cgpa'] > 8.80) | (df_org['cgpa'] < 5.11)]"
   ]
  },
  {
   "cell_type": "markdown",
   "metadata": {},
   "source": [
    "**Inference:** Now we are actually performing the **filtering using pandas** where we are passing in two condition keeping in mind that if either of the condition will be **True** then too our objective will be attained. In the output, we can see that it returned **5 rows** i.e. there are **5 outliers** in the dataset."
   ]
  },
  {
   "cell_type": "markdown",
   "metadata": {},
   "source": [
    "3. Now, we are gonna start with third and the last step, where we will finally **remove the detected outliers in step 2** using two techniques, we can either go for **Trimming** or **Capping**, we will discuss both the technique more closely seperately."
   ]
  },
  {
   "cell_type": "markdown",
   "metadata": {},
   "source": [
    "## Trimming\n",
    "\n",
    "The first technique for dealing with outliers is **trimming** and this is regardless of what kind of data distribution you are working with, trimming is applicable and proven technique for most of the data types. In this technique we used to pluck out all the outliers by using the **filter condition**."
   ]
  },
  {
   "cell_type": "code",
   "execution_count": 11,
   "metadata": {},
   "outputs": [
    {
     "data": {
      "text/html": [
       "<div>\n",
       "<style scoped>\n",
       "    .dataframe tbody tr th:only-of-type {\n",
       "        vertical-align: middle;\n",
       "    }\n",
       "\n",
       "    .dataframe tbody tr th {\n",
       "        vertical-align: top;\n",
       "    }\n",
       "\n",
       "    .dataframe thead th {\n",
       "        text-align: right;\n",
       "    }\n",
       "</style>\n",
       "<table border=\"1\" class=\"dataframe\">\n",
       "  <thead>\n",
       "    <tr style=\"text-align: right;\">\n",
       "      <th></th>\n",
       "      <th>cgpa</th>\n",
       "      <th>placement_exam_marks</th>\n",
       "      <th>placed</th>\n",
       "    </tr>\n",
       "  </thead>\n",
       "  <tbody>\n",
       "    <tr>\n",
       "      <th>0</th>\n",
       "      <td>7.19</td>\n",
       "      <td>26.0</td>\n",
       "      <td>1</td>\n",
       "    </tr>\n",
       "    <tr>\n",
       "      <th>1</th>\n",
       "      <td>7.46</td>\n",
       "      <td>38.0</td>\n",
       "      <td>1</td>\n",
       "    </tr>\n",
       "    <tr>\n",
       "      <th>2</th>\n",
       "      <td>7.54</td>\n",
       "      <td>40.0</td>\n",
       "      <td>1</td>\n",
       "    </tr>\n",
       "    <tr>\n",
       "      <th>3</th>\n",
       "      <td>6.42</td>\n",
       "      <td>8.0</td>\n",
       "      <td>1</td>\n",
       "    </tr>\n",
       "    <tr>\n",
       "      <th>4</th>\n",
       "      <td>7.23</td>\n",
       "      <td>17.0</td>\n",
       "      <td>0</td>\n",
       "    </tr>\n",
       "    <tr>\n",
       "      <th>...</th>\n",
       "      <td>...</td>\n",
       "      <td>...</td>\n",
       "      <td>...</td>\n",
       "    </tr>\n",
       "    <tr>\n",
       "      <th>991</th>\n",
       "      <td>7.04</td>\n",
       "      <td>57.0</td>\n",
       "      <td>0</td>\n",
       "    </tr>\n",
       "    <tr>\n",
       "      <th>992</th>\n",
       "      <td>6.26</td>\n",
       "      <td>12.0</td>\n",
       "      <td>0</td>\n",
       "    </tr>\n",
       "    <tr>\n",
       "      <th>993</th>\n",
       "      <td>6.73</td>\n",
       "      <td>21.0</td>\n",
       "      <td>1</td>\n",
       "    </tr>\n",
       "    <tr>\n",
       "      <th>994</th>\n",
       "      <td>6.48</td>\n",
       "      <td>63.0</td>\n",
       "      <td>0</td>\n",
       "    </tr>\n",
       "    <tr>\n",
       "      <th>998</th>\n",
       "      <td>8.62</td>\n",
       "      <td>46.0</td>\n",
       "      <td>1</td>\n",
       "    </tr>\n",
       "  </tbody>\n",
       "</table>\n",
       "<p>995 rows × 3 columns</p>\n",
       "</div>"
      ],
      "text/plain": [
       "     cgpa  placement_exam_marks  placed\n",
       "0    7.19                  26.0       1\n",
       "1    7.46                  38.0       1\n",
       "2    7.54                  40.0       1\n",
       "3    6.42                   8.0       1\n",
       "4    7.23                  17.0       0\n",
       "..    ...                   ...     ...\n",
       "991  7.04                  57.0       0\n",
       "992  6.26                  12.0       0\n",
       "993  6.73                  21.0       1\n",
       "994  6.48                  63.0       0\n",
       "998  8.62                  46.0       1\n",
       "\n",
       "[995 rows x 3 columns]"
      ]
     },
     "execution_count": 11,
     "metadata": {},
     "output_type": "execute_result"
    }
   ],
   "source": [
    "new_df_org = df_org[(df_org['cgpa'] < 8.80) & (df_org['cgpa'] > 5.11)]\n",
    "new_df_org"
   ]
  },
  {
   "cell_type": "markdown",
   "metadata": {},
   "source": [
    "**Inference:** So as we can see that we applied that condition where all the data should be in the range of our **upper and lower limit** and as a result instead of **1000 rows** it returned **995 rows** which indicates that we have sucessfully **removed 5 outliers**."
   ]
  },
  {
   "cell_type": "markdown",
   "metadata": {},
   "source": [
    "## Capping\n",
    "\n",
    "Capping is another technique for dealing with the bad data points, it is usefull when we have lot of outliers and **it is not good to remove a good amount of data** from the dataset in that case capping comes into picture as it don't remove them instead it brings back those data points **within the range** that we specified according to our **Z-Score value**."
   ]
  },
  {
   "cell_type": "code",
   "execution_count": 12,
   "metadata": {},
   "outputs": [],
   "source": [
    "upper_limit = df_org['cgpa'].mean() + 3*df_org['cgpa'].std()\n",
    "lower_limit = df_org['cgpa'].mean() - 3*df_org['cgpa'].std()\n",
    "\n",
    "df_org['cgpa'] = np.where(\n",
    "    df_org['cgpa']>upper_limit,\n",
    "    upper_limit,\n",
    "    np.where(\n",
    "        df_org['cgpa']<lower_limit,\n",
    "        lower_limit,\n",
    "        df_org['cgpa']\n",
    "    )\n",
    ")"
   ]
  },
  {
   "cell_type": "markdown",
   "metadata": {},
   "source": [
    "**Inference:** Here also first thing is to set the **upper and lower bound**. Then comes the part of **np.where** function that will help to implement the logic behind capping, the basic syntax is as, **np.where(condition, True, False)** i.e. if the condition is true then that data point will be getting the **upper limit value** (within range) if not it will go to check lower limit and if that's True then it will give that data point **lower limit value** (within range)"
   ]
  },
  {
   "cell_type": "code",
   "execution_count": 13,
   "metadata": {},
   "outputs": [
    {
     "data": {
      "text/plain": [
       "(1000, 3)"
      ]
     },
     "execution_count": 13,
     "metadata": {},
     "output_type": "execute_result"
    }
   ],
   "source": [
    "df_org.shape"
   ]
  },
  {
   "cell_type": "markdown",
   "metadata": {},
   "source": [
    "**Inference:** As we did capping so no data was lost and we still have **1000 rows**."
   ]
  },
  {
   "cell_type": "code",
   "execution_count": 14,
   "metadata": {
    "scrolled": true
   },
   "outputs": [
    {
     "data": {
      "text/plain": [
       "count    1000.000000\n",
       "mean        6.961499\n",
       "std         0.612688\n",
       "min         5.113546\n",
       "25%         6.550000\n",
       "50%         6.960000\n",
       "75%         7.370000\n",
       "max         8.808934\n",
       "Name: cgpa, dtype: float64"
      ]
     },
     "execution_count": 14,
     "metadata": {},
     "output_type": "execute_result"
    }
   ],
   "source": [
    "df_org['cgpa'].describe()"
   ]
  },
  {
   "cell_type": "markdown",
   "metadata": {},
   "source": [
    "**Inference:** Now if we compare the minimum and maximum values of before outlier removal and after so we can see that **minimum value is increased** and **maximum value is decreased**."
   ]
  },
  {
   "cell_type": "markdown",
   "metadata": {},
   "source": [
    "## Conclusion\n",
    "\n",
    "In this article we discussed about one of the effecient way of dealing and removing the bad data for our further analysis i.e. removing outliers which is also known as **Anamoly detection**. Here we saw how statistical measures such as Z-Score can help in dealing with such problems.\n",
    "\n",
    "\n",
    "1. Firstly we started off by **importing libraries**, **reading the dataset** and having a brief look over it. Before that we also discussed the **limitations of Z-Score** and when we should prefer it.\n",
    "\n",
    "2. Then we analyse the data distribution of the columns to choose the normally distributed column as Z-Score is applicable on that type only, as a result **cgpa** seems to be fit for further analysis.\n",
    "\n",
    "3. At the last we discussed about two methods via we can do the **Anamoly detection** and these were **Trimming** (removimg outliers) and **Capping** (imputing outliers)."
   ]
  }
 ],
 "metadata": {
  "kernelspec": {
   "display_name": "Python 3",
   "language": "python",
   "name": "python3"
  },
  "language_info": {
   "codemirror_mode": {
    "name": "ipython",
    "version": 3
   },
   "file_extension": ".py",
   "mimetype": "text/x-python",
   "name": "python",
   "nbconvert_exporter": "python",
   "pygments_lexer": "ipython3",
   "version": "3.8.5"
  },
  "varInspector": {
   "cols": {
    "lenName": 16,
    "lenType": 16,
    "lenVar": 40
   },
   "kernels_config": {
    "python": {
     "delete_cmd_postfix": "",
     "delete_cmd_prefix": "del ",
     "library": "var_list.py",
     "varRefreshCmd": "print(var_dic_list())"
    },
    "r": {
     "delete_cmd_postfix": ") ",
     "delete_cmd_prefix": "rm(",
     "library": "var_list.r",
     "varRefreshCmd": "cat(var_dic_list()) "
    }
   },
   "types_to_exclude": [
    "module",
    "function",
    "builtin_function_or_method",
    "instance",
    "_Feature"
   ],
   "window_display": false
  }
 },
 "nbformat": 4,
 "nbformat_minor": 4
}
