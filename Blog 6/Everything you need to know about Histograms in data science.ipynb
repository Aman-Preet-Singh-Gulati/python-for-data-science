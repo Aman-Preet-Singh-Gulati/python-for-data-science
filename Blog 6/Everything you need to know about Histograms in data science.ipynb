{
 "cells": [
  {
   "cell_type": "markdown",
   "metadata": {},
   "source": [
    "## Introduction\n",
    "\n",
    "Histograms are one of the best plots which can iterate through the distrubtion of the dataset **within a specified range**. If we go through the proper defintion of histograms then these are the graphs that project the **statistical information about the distribution** using the **rectangle blocks** that in turn will project the **frequency of items** that will be spread out in the **equal sizes** (numerically).\n",
    "\n",
    "In this article, we will cover everything about the Histograms i.e. **when we should use the histograms?** then using the same in the **real world scenario** which will help us to know how it can help in getting the **business related insights** along with that **data visualization** is an essential step in any data science projects where plots like histograms are very handy."
   ]
  },
  {
   "cell_type": "markdown",
   "metadata": {},
   "source": [
    "## When to use Histograms\n",
    "\n",
    "Before using any technique, visualization chart we first need to analyse when we can use that (in this case its histograms) so that we can get the best out of it. Hence, in this section we will discuss some key aspects where histograms can be extremely useful.\n",
    "\n",
    "1. First thing to keep in mind while using histograms are type of data, as they usually give better insights on the **numerical data**.\n",
    "\n",
    "2. Then if we want to see the **distribution of the dataset** for that reason too this plot is very useful to determine that whether the data is **normally distributed** or not.\n",
    "\n",
    "3. Histograms can also be helpful when we want to find out about the **client's process** in terms of output being generated.\n",
    "\n",
    "4. Whenever we get the problem statement to analyse the **time series data** at that time also histograms can come to rescue as to help in starting the analysis which can determine **changes that are occuring at course of time**.\n",
    "\n",
    "5. Histograms are also very beneficial in indentifying some of the popular **statistical measures** such as, **median,standard median, minimum data point and maximum data point.**"
   ]
  },
  {
   "cell_type": "markdown",
   "metadata": {},
   "source": [
    "## Loading necessary libraries "
   ]
  },
  {
   "cell_type": "code",
   "execution_count": 1,
   "metadata": {},
   "outputs": [],
   "source": [
    "import numpy as np\n",
    "import matplotlib.pyplot as plt\n",
    "import seaborn as sb\n",
    "import pandas as pd\n",
    "\n",
    "plt.rcParams[\"figure.figsize\"] = (10,6)"
   ]
  },
  {
   "cell_type": "markdown",
   "metadata": {},
   "source": [
    "Let's discuss in a nutshell the use of each library that we have imported:\n",
    "\n",
    "1. **Numpy:** Used to implement the statsitics and mathematical formulae using pre-defined functions.\n",
    "2. **Matplotlib:** This is the OG library for data visualization we will mainly use this only to plot the charts/graphs.\n",
    "3. **Seaborn:** Another visualization library built on top of matplotlib.\n",
    "4. **Pandas:** Used for DataFrame manipulation and data cleaning."
   ]
  },
  {
   "cell_type": "markdown",
   "metadata": {},
   "source": [
    "## Loading data"
   ]
  },
  {
   "cell_type": "markdown",
   "metadata": {},
   "source": [
    "Let's load some 1D data and get some insight into it!\n",
    "\n",
    "To keep this section easy to understand, the data generated is something I've thrown together. It's not just an analytic function from **scipy** - that would make it too easy - but I've made sure its not pathological.\n",
    "\n",
    "Let's start with the imports to make sure we have everything right at the beginning. If this errors, **pip install** whichever dependency you don't have. If you have issues (especially on windows machines with numpy) try using **conda install**. For example, **conda install numpy**."
   ]
  },
  {
   "cell_type": "code",
   "execution_count": 2,
   "metadata": {},
   "outputs": [
    {
     "name": "stdout",
     "output_type": "stream",
     "text": [
      "(500,) (500,)\n"
     ]
    }
   ],
   "source": [
    "d1 = np.loadtxt(\"example_1.txt\")\n",
    "d2 = np.loadtxt(\"example_2.txt\")\n",
    "print(d1.shape, d2.shape)"
   ]
  },
  {
   "cell_type": "markdown",
   "metadata": {},
   "source": [
    "**Inference:** As mentioned above we have **loaded two dataset** which I have created for demonstration purpose and when we had a look at the shape of both of the dataset then we saw that both of them have 500 rows."
   ]
  },
  {
   "cell_type": "markdown",
   "metadata": {},
   "source": [
    "## Histogram Plots\n",
    "\n",
    "Now it's time to get our hands dirty and see different aspects of historams. Here we will discuss **3 types of plots** which can help to get the nominal data distribution simulatneously for the both the dataset. \n",
    "\n",
    "* **Normal plots:** For basic understanding of histograms i.e. to see the distribution of data points **within specified range**.\n",
    "* **Density and bins:** Taking a step forward to density parameter will help us know the **probability** connection with histograms and **bins** will help in **normalization** \n",
    "* **Customising styles:** To give a good look and feel to histograms we will also **customize** it based on the availability."
   ]
  },
  {
   "cell_type": "code",
   "execution_count": 22,
   "metadata": {},
   "outputs": [
    {
     "data": {
      "image/png": "[encoded data removed]",
      "text/plain": [
       "<Figure size 720x432 with 1 Axes>"
      ]
     },
     "metadata": {
      "needs_background": "light"
     },
     "output_type": "display_data"
    }
   ],
   "source": [
    "plt.hist(d1, label=\"D1\")\n",
    "plt.hist(d2, label=\"D2\")\n",
    "plt.legend()\n",
    "plt.ylabel(\"Counts\");"
   ]
  },
  {
   "cell_type": "markdown",
   "metadata": {},
   "source": [
    "**Inference:** We have used the **hist** plot from **matplotlib** for both **D1** and **D2** to plot the histogram. Note that, in the plot we can see the **blue area as D1** and **yellow area as D2** which is performed by **legend()** function.\n",
    "\n",
    "**Drawbacks:** Major drawback is that the plots are **completely opaque** hence we are not able to spot the distribution clearly, second is **irregular bins size** which is **portraiting the false story**"
   ]
  },
  {
   "cell_type": "code",
   "execution_count": 4,
   "metadata": {},
   "outputs": [
    {
     "data": {
      "image/png": "[encoded data removed]",
      "text/plain": [
       "<Figure size 720x432 with 1 Axes>"
      ]
     },
     "metadata": {
      "needs_background": "light"
     },
     "output_type": "display_data"
    }
   ],
   "source": [
    "bins = np.linspace(min(d1.min(), d2.min()), max(d1.max(), d2.max()), 50)\n",
    "counts1, _, _ = plt.hist(d1, bins=bins, label=\"D1\")\n",
    "plt.hist(d2, bins=bins, label=\"D2\")\n",
    "plt.legend()\n",
    "plt.ylabel(\"Counts\");"
   ]
  },
  {
   "cell_type": "markdown",
   "metadata": {},
   "source": [
    "**Inference:** In this step we have almost **resolved the drawback** of **normalizing the bins** so that now the data points which were stimulating the false story is now giving better insight.\n",
    "\n",
    "Instead of the **default bins** we have created a new variable which is storing the range of **minimum and maximum** values from the distribution of D1 and D2 dataset to have the **custom bins**."
   ]
  },
  {
   "cell_type": "code",
   "execution_count": 5,
   "metadata": {},
   "outputs": [
    {
     "data": {
      "image/png": "[encoded data removed]",
      "text/plain": [
       "<Figure size 720x432 with 1 Axes>"
      ]
     },
     "metadata": {
      "needs_background": "light"
     },
     "output_type": "display_data"
    }
   ],
   "source": [
    "bins = np.linspace(min(d1.min(), d2.min()), max(d1.max(), d2.max()), 50)\n",
    "counts1, _, _ = plt.hist(d1, bins=bins, label=\"D1\", density=True)\n",
    "plt.hist(d2, bins=bins, label=\"D2\", density=True)\n",
    "plt.legend()\n",
    "plt.ylabel(\"Probability\");"
   ]
  },
  {
   "cell_type": "markdown",
   "metadata": {},
   "source": [
    "**Inference:** As mentioned, in the start of the article **histogram** is highly related with **probability**. One can notice in the **Y-Axis** and compare with the previous plot where it has **counts** while in this plot we have **probability distribution** and we have achieved this by adding only one parameter i.e. **density** and setting it up as **True**."
   ]
  },
  {
   "cell_type": "code",
   "execution_count": 26,
   "metadata": {
    "scrolled": false
   },
   "outputs": [
    {
     "data": {
      "image/png": "[encoded data removed]",
      "text/plain": [
       "<Figure size 720x432 with 1 Axes>"
      ]
     },
     "metadata": {
      "needs_background": "light"
     },
     "output_type": "display_data"
    }
   ],
   "source": [
    "bins = np.linspace(min(d1.min(), d2.min()), max(d1.max(), d2.max()), 50)\n",
    "plt.hist([d1, d2], bins=bins, label=\"Stacked\", density=True, alpha=0.5)\n",
    "plt.hist(d1, bins=bins, label=\"D1\", density=True, histtype=\"step\", lw=1)\n",
    "plt.hist(d2, bins=bins, label=\"D2\", density=True, histtype=\"step\", ls=\":\")\n",
    "plt.legend()\n",
    "plt.ylabel(\"Probability\");"
   ]
  },
  {
   "cell_type": "markdown",
   "metadata": {},
   "source": [
    "**Inference:** Now comes the **styling part** where we will improve the look and feel of the matplotlib's histogram plot by changing and adding few paramters from the **hist()** function.\n",
    "\n",
    "* **Stacked chart:** There is no specific function to achieve the stacked functionality we just have to add two or three dataset in the **form of list** and work is done!\n",
    "\n",
    "* **Alpha:** This parameter is used to manage the **opacity of bars** we can use this in a situation where we want to highight one data more than other.\n",
    "\n",
    "* **Hist-Type:** This parameter can whole convert the typical histograms into **bar charts (step)** as we can see the spacing between the continous distribution which is quite similar to bar graphs.\n",
    "\n",
    "* **Line width & line style:** Line width is denoted as **lw** that help us to increase or decrease the **width of the line** whereas line style is denoted as **ls**, one can notice that I have choose the **\":\"** which is visible too for D2 dataset."
   ]
  },
  {
   "cell_type": "markdown",
   "metadata": {},
   "source": [
    "## Conclusion\n",
    "\n",
    "Here comes the last part of the article, where we will have a look on most preferrably everything in short that we have discussed so far about **histograms** that **what is histograms**, **why and where it can be used** and then paractical implementation of the same, instead of paragraph explanation let's look at point-to-point briefing.\n",
    "\n",
    "1. Starting with the introduction where we got to know about **histograms** which answered out \"what\" question. Then from what we traversed to **\"When\"** where we discussed about when is the best time to use those plots.\n",
    "\n",
    "2. After getting theoritical knowledge we moved forward to implement the histograms plot where we first **draw the basic plot** of the same and gradually moved towards for discussing the parameters like **density and bins**.\n",
    "\n",
    "3. At the last, we learned how to improve the look and feel of the plots by using some of the basic parameters like **alpha**, **line width and line style**, **stacked chart** etc."
   ]
  }
 ],
 "metadata": {
  "kernelspec": {
   "display_name": "Python 3",
   "language": "python",
   "name": "python3"
  },
  "language_info": {
   "codemirror_mode": {
    "name": "ipython",
    "version": 3
   },
   "file_extension": ".py",
   "mimetype": "text/x-python",
   "name": "python",
   "nbconvert_exporter": "python",
   "pygments_lexer": "ipython3",
   "version": "3.8.5"
  },
  "varInspector": {
   "cols": {
    "lenName": 16,
    "lenType": 16,
    "lenVar": 40
   },
   "kernels_config": {
    "python": {
     "delete_cmd_postfix": "",
     "delete_cmd_prefix": "del ",
     "library": "var_list.py",
     "varRefreshCmd": "print(var_dic_list())"
    },
    "r": {
     "delete_cmd_postfix": ") ",
     "delete_cmd_prefix": "rm(",
     "library": "var_list.r",
     "varRefreshCmd": "cat(var_dic_list()) "
    }
   },
   "types_to_exclude": [
    "module",
    "function",
    "builtin_function_or_method",
    "instance",
    "_Feature"
   ],
   "window_display": false
  }
 },
 "nbformat": 4,
 "nbformat_minor": 2
}
